{
  "nbformat": 4,
  "nbformat_minor": 0,
  "metadata": {
    "colab": {
      "name": "prediction_model_for_loan_default_assessment.ipynb",
      "provenance": [],
      "collapsed_sections": []
    },
    "kernelspec": {
      "name": "python3",
      "display_name": "Python 3"
    }
  },
  "cells": [
    {
      "cell_type": "markdown",
      "metadata": {
        "id": "Kfz0lt1lDlJS"
      },
      "source": [
        ""
      ]
    },
    {
      "cell_type": "code",
      "metadata": {
        "id": "1T_xSCHCJ7pl",
        "colab": {
          "base_uri": "https://localhost:8080/",
          "height": 146
        },
        "outputId": "781e1492-6bce-45ce-bd75-11b9e2b43fb4"
      },
      "source": [
        "from google.colab import drive\n",
        "drive.mount('/content/drive')\n",
        "%cd \"/content/drive/My Drive/Data Mining Project/\""
      ],
      "execution_count": null,
      "outputs": [
        {
          "output_type": "stream",
          "text": [
            "Go to this URL in a browser: https://accounts.google.com/o/oauth2/auth?client_id=947318989803-6bn6qk8qdgf4n4g3pfee6491hc0brc4i.apps.googleusercontent.com&redirect_uri=urn%3aietf%3awg%3aoauth%3a2.0%3aoob&response_type=code&scope=email%20https%3a%2f%2fwww.googleapis.com%2fauth%2fdocs.test%20https%3a%2f%2fwww.googleapis.com%2fauth%2fdrive%20https%3a%2f%2fwww.googleapis.com%2fauth%2fdrive.photos.readonly%20https%3a%2f%2fwww.googleapis.com%2fauth%2fpeopleapi.readonly\n",
            "\n",
            "Enter your authorization code:\n",
            "··········\n",
            "Mounted at /content/drive\n",
            "/content/drive/My Drive/Data Mining Project\n"
          ],
          "name": "stdout"
        }
      ]
    },
    {
      "cell_type": "code",
      "metadata": {
        "id": "yOqgxI3TKKvY"
      },
      "source": [
        "import pandas as pd\n",
        "import matplotlib.pyplot as plt\n",
        "import numpy as np\n",
        "from sklearn.linear_model import LogisticRegression\n",
        "from sklearn.neighbors import KNeighborsClassifier\n",
        "from sklearn.metrics import roc_curve\n",
        "from sklearn.metrics import auc\n",
        "from sklearn.tree import DecisionTreeClassifier\n",
        "from sklearn.ensemble import RandomForestClassifier\n",
        "from sklearn.ensemble import GradientBoostingClassifier\n",
        "from sklearn.neural_network import MLPClassifier\n",
        "from sklearn.naive_bayes import GaussianNB\n",
        "from sklearn.ensemble import BaggingClassifier\n",
        "from sklearn.model_selection import cross_validate\n",
        "from datetime import datetime\n",
        "from sklearn.model_selection import StratifiedKFold\n",
        "from scipy import interp\n",
        "import warnings"
      ],
      "execution_count": null,
      "outputs": []
    },
    {
      "cell_type": "code",
      "metadata": {
        "id": "7WX6Z6StKO5B"
      },
      "source": [
        "dataset = pd.read_pickle('/content/drive/My Drive/Data Mining Project/dataset/dataset_new.pkl')\n",
        "pd.set_option('display.max_columns', None)  \n",
        "pd.set_option('display.expand_frame_repr', False)\n",
        "pd.set_option('max_colwidth', -1)"
      ],
      "execution_count": null,
      "outputs": []
    },
    {
      "cell_type": "code",
      "metadata": {
        "id": "oGCx2FZJKfGP"
      },
      "source": [
        "#GRADIENT BOOSTING CLASSIFIER\n",
        "classifier = GradientBoostingClassifier(n_estimators=100)\n",
        "warnings.filterwarnings(\"ignore\")"
      ],
      "execution_count": null,
      "outputs": []
    },
    {
      "cell_type": "code",
      "metadata": {
        "id": "bn5Ac8woK1go"
      },
      "source": [
        "def dataPreProcess(data, size, startIndex, endIndex, type):\n",
        "  X = np.zeros([size,21])\n",
        "  Y = np.zeros(size)\n",
        "  index = 0\n",
        "  for customer in range(startIndex, endIndex, 1):\n",
        "      if(type != 'test'):\n",
        "        isdef = data[6][customer][1]\n",
        "      else:\n",
        "        isdef = 0.\n",
        "      ts = data[2][customer][1]\n",
        "      loan_amt = data[4][customer][1]\n",
        "      loan_date = datetime.strptime(data[5][customer][1],\"%Y-%m-%d\")\n",
        "      last_trans_date = datetime.strptime(data[1][customer][1][-1],\"%Y-%m-%d\")\n",
        "      first_trans_date = datetime.strptime(data[1][customer][1][0],\"%Y-%m-%d\")\n",
        "      last_trans_gap = loan_date - last_trans_date\n",
        "      first_trans_gap = loan_date - first_trans_date\n",
        "      cumsum_ts = np.cumsum(ts)\n",
        "      trans_credit = ts[np.where(ts>0)]\n",
        "      trans_debit = ts[np.where(ts<0)]\n",
        "      count = 0\n",
        "      maxTransactionDate = max(set(data[1][customer][1]), key = data[1][customer][1].count)\n",
        "      maxTransactionDate = datetime.strptime(maxTransactionDate,\"%Y-%m-%d\")\n",
        "      positiveMaxVal = 0.\n",
        "      positiveMinVal = 0.\n",
        "      if(trans_credit.shape[0] > 0):\n",
        "        positiveMaxVal = np.max(trans_credit)\n",
        "        positiveMinVal = np.min(trans_credit)\n",
        "      negativeMaxVal = 0.\n",
        "      negativeMinVal = 0.\n",
        "      if(trans_debit.shape[0] > 0):\n",
        "        negativeMinVal = np.min(trans_debit)\n",
        "        negativeMaxVal = np.max(trans_debit)\n",
        "      X[index,0] = loan_amt #loan amount\n",
        "      X[index,1] = np.sum(trans_credit) #total of credit transactions\n",
        "      X[index,2] = np.sum(trans_debit) #total of debit transactions\n",
        "      X[index,3] = np.max(ts) #Maximum credited amount\n",
        "      X[index,4] = np.min(ts) #Maximum debited amount\n",
        "      X[index,5] = cumsum_ts[-1] #account balance\n",
        "      X[index,6] = ts.shape[0]  #number of transactions\n",
        "      X[index,7] = trans_credit.shape[0] #number of credit transactions\n",
        "      X[index,8] = trans_debit.shape[0] #number of debit transactions\n",
        "      X[index,9] = positiveMinVal #minimum credited amount\n",
        "      X[index,10] = positiveMaxVal #maximum credited amount\n",
        "      X[index,11] = np.mean(trans_credit) #Average of credit transactions\n",
        "      X[index,12] = np.mean(trans_debit) #Average pf debit transactions\n",
        "      X[index,13] = abs(last_trans_gap.days) #gap between last transaction and loan date\n",
        "      X[index,14] = loan_date.year #year of loan request\n",
        "      X[index,15] = loan_date.month #month of loan request\n",
        "      X[index,16] = loan_date.day #day of loan request\n",
        "      X[index,17] = abs(first_trans_gap.days) #gap between first transaction and loan date\n",
        "      X[index,18] = abs((loan_date - maxTransactionDate).days) #Occurance of max transaction\n",
        "      X[index,19] = negativeMinVal #minimum debited amount\n",
        "      X[index,20] = negativeMaxVal #maximum debited amount\n",
        "\n",
        "      Y[index] = isdef\n",
        "      index = index + 1\n",
        "\n",
        "  print('Complete pre-processing', type,' data.....')\n",
        "  return X, Y \n",
        "\n",
        "def dataCleaning(x, type):\n",
        "  from sklearn.impute import SimpleImputer\n",
        "  imp_mean = SimpleImputer(missing_values=np.nan, strategy='mean')\n",
        "  imp_mean.fit(x)\n",
        "  x = imp_mean.transform(x)\n",
        "  print('Complete cleaning', type,' data.....' )\n",
        "  return x\n",
        "\n",
        "def modelScore(clf, x, y, label):\n",
        "  clf.fit(x,y)\n",
        "  clf_cvs = cross_validate(clf,x,y,cv=10)\n",
        "  clf_test_scores = clf_cvs['test_score']\n",
        "  print(label, 'cross validation score : ', clf_test_scores.mean())\n",
        "\n",
        "def runtest(clf, X_test, Y_test, label):\n",
        "  preds = clf.predict_proba(X_test)\n",
        "  fpr,tpr,thresholds = roc_curve(Y_test,preds[:,1])\n",
        "  roc_auc = auc(fpr,tpr)\n",
        "  plt.plot(fpr,tpr)\n",
        "  plt.plot([0,1],[0,1])\n",
        "  print(label,' Test AUC: ', roc_auc)"
      ],
      "execution_count": null,
      "outputs": []
    },
    {
      "cell_type": "code",
      "metadata": {
        "id": "03FX83zuLPCh",
        "colab": {
          "base_uri": "https://localhost:8080/",
          "height": 374
        },
        "outputId": "2a106099-be90-4b04-f710-54e1d67a46fd"
      },
      "source": [
        "X_train, Y_train = dataPreProcess(dataset, 10000, 0, 10000, 'train')\n",
        "X_train = dataCleaning(X_train, 'train')\n",
        "X_test, Y_test = dataPreProcess(dataset, 500, 10000, 10500, 'validation')\n",
        "X_test = dataCleaning(X_test, 'test')\n",
        "modelScore(classifier, X_train, Y_train, 'Gradient Boosting Classifier')\n",
        "runtest(classifier, X_test, Y_test, 'Gradient Boosting Classifier')"
      ],
      "execution_count": null,
      "outputs": [
        {
          "output_type": "stream",
          "text": [
            "Complete pre-processing train  data.....\n",
            "Complete cleaning train  data.....\n",
            "Complete pre-processing validation  data.....\n",
            "Complete cleaning test  data.....\n",
            "Gradient Boosting Classifier cross validation score :  0.7705\n",
            "Gradient Boosting Classifier  Test AUC:  0.7635743321718932\n"
          ],
          "name": "stdout"
        },
        {
          "output_type": "display_data",
          "data": {
            "image/png": "[encoded data removed]",
            "text/plain": [
              "<Figure size 432x288 with 1 Axes>"
            ]
          },
          "metadata": {
            "tags": []
          }
        }
      ]
    },
    {
      "cell_type": "code",
      "metadata": {
        "id": "0LSESWN3Lfuu",
        "colab": {
          "base_uri": "https://localhost:8080/",
          "height": 283
        },
        "outputId": "7485dc98-b727-4eb9-bf48-c2668aeb414b"
      },
      "source": [
        "kfolds = StratifiedKFold(n_splits=10)\n",
        "mfpr = np.linspace(0, 1, 100)\n",
        "classifier_tp=[]\n",
        "classifier_auc=[]\n",
        "\n",
        "def fit(clf, x_train, y_train, x_test, y_test):\n",
        "  clf.fit(x_train,y_train)\n",
        "  preds = clf.predict_proba(x_test)\n",
        "  fpr,tpr,thresholds = roc_curve(y_test,preds[:,1])\n",
        "  classifier_tp.append(interp(mfpr, fpr, tpr))\n",
        "  classifier_tp[-1][0] = 0.0\n",
        "  roc_auc =  auc(tpr,fpr)\n",
        "  classifier_auc.append(roc_auc)\n",
        "  plt.plot([0,1], [0,1])\n",
        "  plt.plot(fpr, tpr)\n",
        "\n",
        "def meanCurve():\n",
        "  mtpr = np.mean(classifier_tp,axis=0)\n",
        "  m_auc = auc(mfpr,mtpr)\n",
        "  s_auc = np.std(classifier_auc)\n",
        "  plt.plot(mfpr,mtpr)\n",
        "  plt.errorbar(mfpr, mtpr,yerr=s_auc)\n",
        "  return m_auc\n",
        "\n",
        "model = classifier #Define model for k-Fold Validatio \n",
        "for train_index, test_index in kfolds.split(X_train, Y_train):\n",
        "  x_train, y_train = X_train[train_index], Y_train[train_index]\n",
        "  x_test, y_test = X_train[test_index],Y_train[test_index]\n",
        "  fit(model, x_train, y_train, x_test, y_test)\n",
        "\n",
        "m_auc = meanCurve()\n",
        "print('Mean AUC : ',m_auc)"
      ],
      "execution_count": null,
      "outputs": [
        {
          "output_type": "stream",
          "text": [
            "Mean AUC :  0.7520838009726898\n"
          ],
          "name": "stdout"
        },
        {
          "output_type": "display_data",
          "data": {
            "image/png": "[encoded data removed]",
            "text/plain": [
              "<Figure size 432x288 with 1 Axes>"
            ]
          },
          "metadata": {
            "tags": []
          }
        }
      ]
    },
    {
      "cell_type": "code",
      "metadata": {
        "id": "mt4axMg3QX7h",
        "colab": {
          "base_uri": "https://localhost:8080/",
          "height": 72
        },
        "outputId": "68baa474-fcdd-4415-929b-2d1372b521b5"
      },
      "source": [
        "X_Pred,_ = dataPreProcess(dataset, 5000, 10000, 15000, 'test')\n",
        "X_Pred = dataCleaning(X_Pred,'test')\n",
        "Y_pred = classifier.predict_proba(X_Pred)\n",
        "fileToWrite = open(\"output.txt\", \"w\")\n",
        "index = 0\n",
        "for customer in np.arange(10000,15000):\n",
        "  customerID=str(dataset[0][customer][1])\n",
        "  isDefault=str(Y_pred[index][1])\n",
        "  printline=customerID+','+isDefault+'\\n'\n",
        "  fileToWrite.write(printline)\n",
        "  index = index+  1\n",
        "fileToWrite.close()\n",
        "print('Completed writing predicted probability in output.txt')"
      ],
      "execution_count": null,
      "outputs": [
        {
          "output_type": "stream",
          "text": [
            "Complete pre-processing test  data.....\n",
            "Complete cleaning test  data.....\n",
            "Completed writing predicted probability in output.txt\n"
          ],
          "name": "stdout"
        }
      ]
    }
  ]
}